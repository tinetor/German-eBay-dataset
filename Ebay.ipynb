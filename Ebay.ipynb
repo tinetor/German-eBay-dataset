{
 "cells": [
  {
   "cell_type": "markdown",
   "metadata": {},
   "source": [
    "The goal of this project is to investigate the characteristics of Used Cars for Sale Online. For this analysis, we are going to use the eBay dataset in the auto vehicle section. We are focused in understand the main characteristics of each year model. To improve our analysis we are also going to use the dataset Vehicle and Tire Recalls, 1967-Present. The info about the datasets is on the GitHub repository."
   ]
  },
  {
   "cell_type": "markdown",
   "metadata": {},
   "source": [
    "**Import Packages**"
   ]
  },
  {
   "cell_type": "code",
   "execution_count": 278,
   "metadata": {},
   "outputs": [],
   "source": [
    "import numpy as np\n",
    "import pandas as pd \n",
    "import seaborn as sns\n",
    "import matplotlib.pyplot as plt\n",
    "sns.set(style=\"ticks\", color_codes=True)\n"
   ]
  },
  {
   "cell_type": "markdown",
   "metadata": {},
   "source": [
    "**Read dataset**"
   ]
  },
  {
   "cell_type": "code",
   "execution_count": 279,
   "metadata": {
    "scrolled": true
   },
   "outputs": [],
   "source": [
    "autos=pd.read_csv('autos.csv',encoding='ANSI')\n",
    "recall=pd.read_csv('C:\\\\Users\\\\tiago\\\\OneDrive\\\\Documentos\\\\Portfolio\\\\vehicle_tire_recalls\\\\tire_recalls.csv')"
   ]
  },
  {
   "cell_type": "markdown",
   "metadata": {},
   "source": [
    "# **Ebay Dataset**"
   ]
  },
  {
   "cell_type": "markdown",
   "metadata": {},
   "source": [
    "**Explore data** "
   ]
  },
  {
   "cell_type": "code",
   "execution_count": 280,
   "metadata": {
    "scrolled": false
   },
   "outputs": [
    {
     "data": {
      "text/html": [
       "<div>\n",
       "<style scoped>\n",
       "    .dataframe tbody tr th:only-of-type {\n",
       "        vertical-align: middle;\n",
       "    }\n",
       "\n",
       "    .dataframe tbody tr th {\n",
       "        vertical-align: top;\n",
       "    }\n",
       "\n",
       "    .dataframe thead th {\n",
       "        text-align: right;\n",
       "    }\n",
       "</style>\n",
       "<table border=\"1\" class=\"dataframe\">\n",
       "  <thead>\n",
       "    <tr style=\"text-align: right;\">\n",
       "      <th></th>\n",
       "      <th>dateCrawled</th>\n",
       "      <th>name</th>\n",
       "      <th>seller</th>\n",
       "      <th>offerType</th>\n",
       "      <th>price</th>\n",
       "      <th>abtest</th>\n",
       "      <th>vehicleType</th>\n",
       "      <th>yearOfRegistration</th>\n",
       "      <th>gearbox</th>\n",
       "      <th>powerPS</th>\n",
       "      <th>model</th>\n",
       "      <th>kilometer</th>\n",
       "      <th>monthOfRegistration</th>\n",
       "      <th>fuelType</th>\n",
       "      <th>brand</th>\n",
       "      <th>notRepairedDamage</th>\n",
       "      <th>dateCreated</th>\n",
       "      <th>nrOfPictures</th>\n",
       "      <th>postalCode</th>\n",
       "      <th>lastSeen</th>\n",
       "    </tr>\n",
       "  </thead>\n",
       "  <tbody>\n",
       "    <tr>\n",
       "      <th>0</th>\n",
       "      <td>2016-03-24 11:52:17</td>\n",
       "      <td>Golf_3_1.6</td>\n",
       "      <td>privat</td>\n",
       "      <td>Angebot</td>\n",
       "      <td>480</td>\n",
       "      <td>test</td>\n",
       "      <td>NaN</td>\n",
       "      <td>1993</td>\n",
       "      <td>manuell</td>\n",
       "      <td>0</td>\n",
       "      <td>golf</td>\n",
       "      <td>150000</td>\n",
       "      <td>0</td>\n",
       "      <td>benzin</td>\n",
       "      <td>volkswagen</td>\n",
       "      <td>NaN</td>\n",
       "      <td>2016-03-24 00:00:00</td>\n",
       "      <td>0</td>\n",
       "      <td>70435</td>\n",
       "      <td>2016-04-07 03:16:57</td>\n",
       "    </tr>\n",
       "    <tr>\n",
       "      <th>1</th>\n",
       "      <td>2016-03-24 10:58:45</td>\n",
       "      <td>A5_Sportback_2.7_Tdi</td>\n",
       "      <td>privat</td>\n",
       "      <td>Angebot</td>\n",
       "      <td>18300</td>\n",
       "      <td>test</td>\n",
       "      <td>coupe</td>\n",
       "      <td>2011</td>\n",
       "      <td>manuell</td>\n",
       "      <td>190</td>\n",
       "      <td>NaN</td>\n",
       "      <td>125000</td>\n",
       "      <td>5</td>\n",
       "      <td>diesel</td>\n",
       "      <td>audi</td>\n",
       "      <td>ja</td>\n",
       "      <td>2016-03-24 00:00:00</td>\n",
       "      <td>0</td>\n",
       "      <td>66954</td>\n",
       "      <td>2016-04-07 01:46:50</td>\n",
       "    </tr>\n",
       "    <tr>\n",
       "      <th>2</th>\n",
       "      <td>2016-03-14 12:52:21</td>\n",
       "      <td>Jeep_Grand_Cherokee_\"Overland\"</td>\n",
       "      <td>privat</td>\n",
       "      <td>Angebot</td>\n",
       "      <td>9800</td>\n",
       "      <td>test</td>\n",
       "      <td>suv</td>\n",
       "      <td>2004</td>\n",
       "      <td>automatik</td>\n",
       "      <td>163</td>\n",
       "      <td>grand</td>\n",
       "      <td>125000</td>\n",
       "      <td>8</td>\n",
       "      <td>diesel</td>\n",
       "      <td>jeep</td>\n",
       "      <td>NaN</td>\n",
       "      <td>2016-03-14 00:00:00</td>\n",
       "      <td>0</td>\n",
       "      <td>90480</td>\n",
       "      <td>2016-04-05 12:47:46</td>\n",
       "    </tr>\n",
       "    <tr>\n",
       "      <th>3</th>\n",
       "      <td>2016-03-17 16:54:04</td>\n",
       "      <td>GOLF_4_1_4__3TÜRER</td>\n",
       "      <td>privat</td>\n",
       "      <td>Angebot</td>\n",
       "      <td>1500</td>\n",
       "      <td>test</td>\n",
       "      <td>kleinwagen</td>\n",
       "      <td>2001</td>\n",
       "      <td>manuell</td>\n",
       "      <td>75</td>\n",
       "      <td>golf</td>\n",
       "      <td>150000</td>\n",
       "      <td>6</td>\n",
       "      <td>benzin</td>\n",
       "      <td>volkswagen</td>\n",
       "      <td>nein</td>\n",
       "      <td>2016-03-17 00:00:00</td>\n",
       "      <td>0</td>\n",
       "      <td>91074</td>\n",
       "      <td>2016-03-17 17:40:17</td>\n",
       "    </tr>\n",
       "    <tr>\n",
       "      <th>4</th>\n",
       "      <td>2016-03-31 17:25:20</td>\n",
       "      <td>Skoda_Fabia_1.4_TDI_PD_Classic</td>\n",
       "      <td>privat</td>\n",
       "      <td>Angebot</td>\n",
       "      <td>3600</td>\n",
       "      <td>test</td>\n",
       "      <td>kleinwagen</td>\n",
       "      <td>2008</td>\n",
       "      <td>manuell</td>\n",
       "      <td>69</td>\n",
       "      <td>fabia</td>\n",
       "      <td>90000</td>\n",
       "      <td>7</td>\n",
       "      <td>diesel</td>\n",
       "      <td>skoda</td>\n",
       "      <td>nein</td>\n",
       "      <td>2016-03-31 00:00:00</td>\n",
       "      <td>0</td>\n",
       "      <td>60437</td>\n",
       "      <td>2016-04-06 10:17:21</td>\n",
       "    </tr>\n",
       "  </tbody>\n",
       "</table>\n",
       "</div>"
      ],
      "text/plain": [
       "           dateCrawled                            name  seller offerType  \\\n",
       "0  2016-03-24 11:52:17                      Golf_3_1.6  privat   Angebot   \n",
       "1  2016-03-24 10:58:45            A5_Sportback_2.7_Tdi  privat   Angebot   \n",
       "2  2016-03-14 12:52:21  Jeep_Grand_Cherokee_\"Overland\"  privat   Angebot   \n",
       "3  2016-03-17 16:54:04              GOLF_4_1_4__3TÜRER  privat   Angebot   \n",
       "4  2016-03-31 17:25:20  Skoda_Fabia_1.4_TDI_PD_Classic  privat   Angebot   \n",
       "\n",
       "   price abtest vehicleType  yearOfRegistration    gearbox  powerPS  model  \\\n",
       "0    480   test         NaN                1993    manuell        0   golf   \n",
       "1  18300   test       coupe                2011    manuell      190    NaN   \n",
       "2   9800   test         suv                2004  automatik      163  grand   \n",
       "3   1500   test  kleinwagen                2001    manuell       75   golf   \n",
       "4   3600   test  kleinwagen                2008    manuell       69  fabia   \n",
       "\n",
       "   kilometer  monthOfRegistration fuelType       brand notRepairedDamage  \\\n",
       "0     150000                    0   benzin  volkswagen               NaN   \n",
       "1     125000                    5   diesel        audi                ja   \n",
       "2     125000                    8   diesel        jeep               NaN   \n",
       "3     150000                    6   benzin  volkswagen              nein   \n",
       "4      90000                    7   diesel       skoda              nein   \n",
       "\n",
       "           dateCreated  nrOfPictures  postalCode             lastSeen  \n",
       "0  2016-03-24 00:00:00             0       70435  2016-04-07 03:16:57  \n",
       "1  2016-03-24 00:00:00             0       66954  2016-04-07 01:46:50  \n",
       "2  2016-03-14 00:00:00             0       90480  2016-04-05 12:47:46  \n",
       "3  2016-03-17 00:00:00             0       91074  2016-03-17 17:40:17  \n",
       "4  2016-03-31 00:00:00             0       60437  2016-04-06 10:17:21  "
      ]
     },
     "execution_count": 280,
     "metadata": {},
     "output_type": "execute_result"
    }
   ],
   "source": [
    "autos.head()"
   ]
  },
  {
   "cell_type": "code",
   "execution_count": 281,
   "metadata": {
    "scrolled": true
   },
   "outputs": [
    {
     "name": "stdout",
     "output_type": "stream",
     "text": [
      "<class 'pandas.core.frame.DataFrame'>\n",
      "RangeIndex: 371528 entries, 0 to 371527\n",
      "Data columns (total 20 columns):\n",
      " #   Column               Non-Null Count   Dtype \n",
      "---  ------               --------------   ----- \n",
      " 0   dateCrawled          371528 non-null  object\n",
      " 1   name                 371528 non-null  object\n",
      " 2   seller               371528 non-null  object\n",
      " 3   offerType            371528 non-null  object\n",
      " 4   price                371528 non-null  int64 \n",
      " 5   abtest               371528 non-null  object\n",
      " 6   vehicleType          333659 non-null  object\n",
      " 7   yearOfRegistration   371528 non-null  int64 \n",
      " 8   gearbox              351319 non-null  object\n",
      " 9   powerPS              371528 non-null  int64 \n",
      " 10  model                351044 non-null  object\n",
      " 11  kilometer            371528 non-null  int64 \n",
      " 12  monthOfRegistration  371528 non-null  int64 \n",
      " 13  fuelType             338142 non-null  object\n",
      " 14  brand                371528 non-null  object\n",
      " 15  notRepairedDamage    299468 non-null  object\n",
      " 16  dateCreated          371528 non-null  object\n",
      " 17  nrOfPictures         371528 non-null  int64 \n",
      " 18  postalCode           371528 non-null  int64 \n",
      " 19  lastSeen             371528 non-null  object\n",
      "dtypes: int64(7), object(13)\n",
      "memory usage: 56.7+ MB\n"
     ]
    }
   ],
   "source": [
    "autos.info()"
   ]
  },
  {
   "cell_type": "code",
   "execution_count": 282,
   "metadata": {},
   "outputs": [
    {
     "data": {
      "text/html": [
       "<div>\n",
       "<style scoped>\n",
       "    .dataframe tbody tr th:only-of-type {\n",
       "        vertical-align: middle;\n",
       "    }\n",
       "\n",
       "    .dataframe tbody tr th {\n",
       "        vertical-align: top;\n",
       "    }\n",
       "\n",
       "    .dataframe thead th {\n",
       "        text-align: right;\n",
       "    }\n",
       "</style>\n",
       "<table border=\"1\" class=\"dataframe\">\n",
       "  <thead>\n",
       "    <tr style=\"text-align: right;\">\n",
       "      <th></th>\n",
       "      <th>price</th>\n",
       "      <th>yearOfRegistration</th>\n",
       "      <th>powerPS</th>\n",
       "      <th>kilometer</th>\n",
       "      <th>monthOfRegistration</th>\n",
       "      <th>nrOfPictures</th>\n",
       "      <th>postalCode</th>\n",
       "    </tr>\n",
       "  </thead>\n",
       "  <tbody>\n",
       "    <tr>\n",
       "      <th>count</th>\n",
       "      <td>3.715280e+05</td>\n",
       "      <td>371528.000000</td>\n",
       "      <td>371528.000000</td>\n",
       "      <td>371528.000000</td>\n",
       "      <td>371528.000000</td>\n",
       "      <td>371528.0</td>\n",
       "      <td>371528.00000</td>\n",
       "    </tr>\n",
       "    <tr>\n",
       "      <th>mean</th>\n",
       "      <td>1.729514e+04</td>\n",
       "      <td>2004.577997</td>\n",
       "      <td>115.549477</td>\n",
       "      <td>125618.688228</td>\n",
       "      <td>5.734445</td>\n",
       "      <td>0.0</td>\n",
       "      <td>50820.66764</td>\n",
       "    </tr>\n",
       "    <tr>\n",
       "      <th>std</th>\n",
       "      <td>3.587954e+06</td>\n",
       "      <td>92.866598</td>\n",
       "      <td>192.139578</td>\n",
       "      <td>40112.337051</td>\n",
       "      <td>3.712412</td>\n",
       "      <td>0.0</td>\n",
       "      <td>25799.08247</td>\n",
       "    </tr>\n",
       "    <tr>\n",
       "      <th>min</th>\n",
       "      <td>0.000000e+00</td>\n",
       "      <td>1000.000000</td>\n",
       "      <td>0.000000</td>\n",
       "      <td>5000.000000</td>\n",
       "      <td>0.000000</td>\n",
       "      <td>0.0</td>\n",
       "      <td>1067.00000</td>\n",
       "    </tr>\n",
       "    <tr>\n",
       "      <th>25%</th>\n",
       "      <td>1.150000e+03</td>\n",
       "      <td>1999.000000</td>\n",
       "      <td>70.000000</td>\n",
       "      <td>125000.000000</td>\n",
       "      <td>3.000000</td>\n",
       "      <td>0.0</td>\n",
       "      <td>30459.00000</td>\n",
       "    </tr>\n",
       "    <tr>\n",
       "      <th>50%</th>\n",
       "      <td>2.950000e+03</td>\n",
       "      <td>2003.000000</td>\n",
       "      <td>105.000000</td>\n",
       "      <td>150000.000000</td>\n",
       "      <td>6.000000</td>\n",
       "      <td>0.0</td>\n",
       "      <td>49610.00000</td>\n",
       "    </tr>\n",
       "    <tr>\n",
       "      <th>75%</th>\n",
       "      <td>7.200000e+03</td>\n",
       "      <td>2008.000000</td>\n",
       "      <td>150.000000</td>\n",
       "      <td>150000.000000</td>\n",
       "      <td>9.000000</td>\n",
       "      <td>0.0</td>\n",
       "      <td>71546.00000</td>\n",
       "    </tr>\n",
       "    <tr>\n",
       "      <th>max</th>\n",
       "      <td>2.147484e+09</td>\n",
       "      <td>9999.000000</td>\n",
       "      <td>20000.000000</td>\n",
       "      <td>150000.000000</td>\n",
       "      <td>12.000000</td>\n",
       "      <td>0.0</td>\n",
       "      <td>99998.00000</td>\n",
       "    </tr>\n",
       "  </tbody>\n",
       "</table>\n",
       "</div>"
      ],
      "text/plain": [
       "              price  yearOfRegistration        powerPS      kilometer  \\\n",
       "count  3.715280e+05       371528.000000  371528.000000  371528.000000   \n",
       "mean   1.729514e+04         2004.577997     115.549477  125618.688228   \n",
       "std    3.587954e+06           92.866598     192.139578   40112.337051   \n",
       "min    0.000000e+00         1000.000000       0.000000    5000.000000   \n",
       "25%    1.150000e+03         1999.000000      70.000000  125000.000000   \n",
       "50%    2.950000e+03         2003.000000     105.000000  150000.000000   \n",
       "75%    7.200000e+03         2008.000000     150.000000  150000.000000   \n",
       "max    2.147484e+09         9999.000000   20000.000000  150000.000000   \n",
       "\n",
       "       monthOfRegistration  nrOfPictures    postalCode  \n",
       "count        371528.000000      371528.0  371528.00000  \n",
       "mean              5.734445           0.0   50820.66764  \n",
       "std               3.712412           0.0   25799.08247  \n",
       "min               0.000000           0.0    1067.00000  \n",
       "25%               3.000000           0.0   30459.00000  \n",
       "50%               6.000000           0.0   49610.00000  \n",
       "75%               9.000000           0.0   71546.00000  \n",
       "max              12.000000           0.0   99998.00000  "
      ]
     },
     "execution_count": 282,
     "metadata": {},
     "output_type": "execute_result"
    }
   ],
   "source": [
    "autos.describe()"
   ]
  },
  {
   "cell_type": "markdown",
   "metadata": {},
   "source": [
    "The first thing we noticed is that the column number of pictures(nrOfPictures) does not have any value different from  zero, so We will remove this column."
   ]
  },
  {
   "cell_type": "code",
   "execution_count": 283,
   "metadata": {},
   "outputs": [],
   "source": [
    "exclude_column=['nrOfPictures']# list of columns we want to remove"
   ]
  },
  {
   "cell_type": "markdown",
   "metadata": {},
   "source": [
    "The column offer type is not relevant for our analysis, there are only  12 rows in which the values are not Angebot, which means offers in German, so We will eliminate this column."
   ]
  },
  {
   "cell_type": "code",
   "execution_count": 284,
   "metadata": {},
   "outputs": [
    {
     "data": {
      "text/plain": [
       "(12, 20)"
      ]
     },
     "execution_count": 284,
     "metadata": {},
     "output_type": "execute_result"
    }
   ],
   "source": [
    "autos[autos['offerType']!='Angebot'].shape"
   ]
  },
  {
   "cell_type": "code",
   "execution_count": 285,
   "metadata": {},
   "outputs": [],
   "source": [
    "exclude_column.append('offerType') \n"
   ]
  },
  {
   "cell_type": "markdown",
   "metadata": {},
   "source": [
    "The month of Registration is irrelevant because we are focused on the year, postalCode is because we are not interested in the address of sellers and abtest. After all, there is no explanation about it in the dictionary."
   ]
  },
  {
   "cell_type": "code",
   "execution_count": 286,
   "metadata": {},
   "outputs": [],
   "source": [
    "exclude_column.append('monthOfRegistration')\n",
    "exclude_column.append('postalCode')\n",
    "exclude_column.append('abtest')\n"
   ]
  },
  {
   "cell_type": "markdown",
   "metadata": {},
   "source": [
    "According to the dictionary lastSeen and dateCreated could be used to estimate when the car was sold, but it does not consider that an ad could be just deleted so we are not going to use this column. \n",
    "<br>\n",
    "DateCrawled, according to the dictionary was made on the same day, so all the values are the year 2016 so we will also remove this one"
   ]
  },
  {
   "cell_type": "code",
   "execution_count": 287,
   "metadata": {},
   "outputs": [
    {
     "data": {
      "text/plain": [
       "(371528, 13)"
      ]
     },
     "execution_count": 287,
     "metadata": {},
     "output_type": "execute_result"
    }
   ],
   "source": [
    "exclude_column.append('dateCrawled')\n",
    "exclude_column.append('lastSeen')\n",
    "\n",
    "autos_clean=autos.drop(exclude_column,axis=1)\n",
    "autos_clean.shape"
   ]
  },
  {
   "cell_type": "markdown",
   "metadata": {},
   "source": [
    "**Detecting missing values**"
   ]
  },
  {
   "cell_type": "markdown",
   "metadata": {},
   "source": [
    "Let's start checking the missing values, to check It a graphical analysis suits better because there are only 13 columns so the graph will not be visually messy. The black points are the missing values."
   ]
  },
  {
   "cell_type": "code",
   "execution_count": 288,
   "metadata": {},
   "outputs": [
    {
     "data": {
      "text/plain": [
       "<matplotlib.axes._subplots.AxesSubplot at 0x20e3dee18e0>"
      ]
     },
     "execution_count": 288,
     "metadata": {},
     "output_type": "execute_result"
    },
    {
     "data": {
      "image/png": "[encoded data removed]",
      "text/plain": [
       "<Figure size 432x288 with 1 Axes>"
      ]
     },
     "metadata": {},
     "output_type": "display_data"
    }
   ],
   "source": [
    "null=autos_clean.isnull()\n",
    "\n",
    "sns.heatmap(~null, cbar=False, yticklabels=False)"
   ]
  },
  {
   "cell_type": "markdown",
   "metadata": {},
   "source": [
    "The graph above shows that only the columns vehicle type, gearbox, model, fuel Type and no repaired Damage have missing values. Before fixing it let`s explore other aspects because fixing them would reduce our number of missing values."
   ]
  },
  {
   "cell_type": "markdown",
   "metadata": {},
   "source": [
    "**Detecting anomalies**"
   ]
  },
  {
   "cell_type": "markdown",
   "metadata": {},
   "source": [
    "The column dateCreated can't be older than YearOfRegistration because it is impossible for a used car to be upload to eBay before its existence. So let's have a look at it.To compare the columns we have to format all the date values into the same date format."
   ]
  },
  {
   "cell_type": "code",
   "execution_count": 289,
   "metadata": {},
   "outputs": [],
   "source": [
    "autos_clean['dateCreated']=autos['dateCreated'].str[:4].astype(int) #keep only the first 4 digits that correspond to the year \n"
   ]
  },
  {
   "cell_type": "code",
   "execution_count": 290,
   "metadata": {
    "scrolled": true
   },
   "outputs": [
    {
     "data": {
      "text/plain": [
       "3.951249973084128"
      ]
     },
     "execution_count": 290,
     "metadata": {},
     "output_type": "execute_result"
    }
   ],
   "source": [
    "olderthancreation=autos_clean[autos_clean['dateCreated']<autos_clean['yearOfRegistration']]#mask registered before its existence \n",
    "\n",
    "olderthancreation.shape[0]/autos_clean.shape[0]*100 #percentage \n"
   ]
  },
  {
   "cell_type": "markdown",
   "metadata": {},
   "source": [
    "From the above, we can see that 3.95% had its first registration after been posted on eBay and this is illogical. Unfornately there is nothing we can do with these values, so let's delete these rows."
   ]
  },
  {
   "cell_type": "code",
   "execution_count": 291,
   "metadata": {},
   "outputs": [],
   "source": [
    "autos_clean=autos_clean[autos_clean['dateCreated']>autos_clean['yearOfRegistration']]"
   ]
  },
  {
   "cell_type": "markdown",
   "metadata": {},
   "source": [
    "Now that we discarded the cars which were registered too early it is appropriate to also check cars registered too long ago. We need to make a few considerations.\n",
    "<br>\n",
    "The first car for mass production was inveted 1908 by  Ford Motor Company.\n",
    "<br>\n",
    "For this analysis, we opted to cars after the Fuel injection was implemented in cars in 1980 because it was a mark for the automobile industry. There are many reasons for considering this a mark e.g before it cars had problems starting, especially in cold days.So we are going to consider only cars registered from 1980 onward\n",
    "<br>\n",
    "if you are curious about Fuel injection: https://en.wikipedia.org/wiki/Fuel_injection"
   ]
  },
  {
   "cell_type": "code",
   "execution_count": 292,
   "metadata": {},
   "outputs": [],
   "source": [
    "autos_clean=autos_clean[autos_clean['yearOfRegistration']>=1980]"
   ]
  },
  {
   "cell_type": "markdown",
   "metadata": {},
   "source": [
    "Lets have a look at the range of prices"
   ]
  },
  {
   "cell_type": "code",
   "execution_count": 293,
   "metadata": {},
   "outputs": [
    {
     "data": {
      "text/plain": [
       "count    3.428670e+05\n",
       "mean     1.705708e+04\n",
       "std      3.722661e+06\n",
       "min      0.000000e+00\n",
       "25%      1.200000e+03\n",
       "50%      3.000000e+03\n",
       "75%      7.490000e+03\n",
       "max      2.147484e+09\n",
       "Name: price, dtype: float64"
      ]
     },
     "execution_count": 293,
     "metadata": {},
     "output_type": "execute_result"
    }
   ],
   "source": [
    "autos_clean['price'].describe()"
   ]
  },
  {
   "cell_type": "markdown",
   "metadata": {},
   "source": [
    "In the Dictionary there is no mention of the currency, but it might be Euros I tried to contact the creator of the dataset, but he hasn't replied.\n",
    "<br>\n",
    "There are cars in which the value is 0, and that`s not likely. Doing a research background about the most expensive cars in the world the values are around 2-9 billion dollars, considering that eBay is not a place for ultra-luxury cars.\n",
    "I will limit the price from 100 Euros to 5 million Euros."
   ]
  },
  {
   "cell_type": "code",
   "execution_count": 294,
   "metadata": {},
   "outputs": [],
   "source": [
    "autos_clean=autos_clean[autos_clean.price.between(100, 5*10**6, inclusive=True)] #set price range we want"
   ]
  },
  {
   "cell_type": "markdown",
   "metadata": {},
   "source": [
    "**Imputing for missing values**"
   ]
  },
  {
   "cell_type": "markdown",
   "metadata": {},
   "source": [
    "Now let's have a look in the column notRepairedDamage this column has many missing values according to the graph, but considering its values should be only YES or NO it is worth having a look"
   ]
  },
  {
   "cell_type": "code",
   "execution_count": 295,
   "metadata": {},
   "outputs": [
    {
     "data": {
      "text/plain": [
       "array([nan, 'ja', 'nein'], dtype=object)"
      ]
     },
     "execution_count": 295,
     "metadata": {},
     "output_type": "execute_result"
    }
   ],
   "source": [
    "autos_clean['notRepairedDamage'].unique()"
   ]
  },
  {
   "cell_type": "markdown",
   "metadata": {},
   "source": [
    "we have 3 values in not Repaired we could assign \"nan\" and \"nein\" as NO and \"ja\" as yes, but a more effective way would be to convert it to bolean values."
   ]
  },
  {
   "cell_type": "code",
   "execution_count": 296,
   "metadata": {},
   "outputs": [],
   "source": [
    "yes_no = {\"ja\": True,\"nein\": False}\n",
    "\n",
    "autos_clean['notRepairedDamage']= autos_clean['notRepairedDamage'].map(yes_no) # replaced each row based on yes_no\n",
    "autos_clean['notRepairedDamage']=autos_clean['notRepairedDamage'].fillna(False) "
   ]
  },
  {
   "cell_type": "code",
   "execution_count": 297,
   "metadata": {},
   "outputs": [
    {
     "data": {
      "text/plain": [
       "array([False,  True])"
      ]
     },
     "execution_count": 297,
     "metadata": {},
     "output_type": "execute_result"
    }
   ],
   "source": [
    "autos_clean['notRepairedDamage'].unique()"
   ]
  },
  {
   "cell_type": "markdown",
   "metadata": {},
   "source": [
    "The column vehicle type is special a case. Different from characteristics such as the gearbox, engine power, and fuel type among versions of the same model, the vehicle type is not likely to change. So we can find these values from other rows that are the same model."
   ]
  },
  {
   "cell_type": "code",
   "execution_count": 298,
   "metadata": {},
   "outputs": [],
   "source": [
    "not_vehi_type_null=autos_clean[(autos_clean['vehicleType'].notnull()) & (autos_clean['model'].notnull())] \n",
    "#row with no missing vehicleType and model\n",
    "\n",
    "di=dict(zip(not_vehi_type_null.model,not_vehi_type_null['vehicleType']))\n",
    "#creates a dictionary of models and its vehicle Type\n",
    "\n",
    "d=autos_clean['vehicleType'].isnull()\n",
    "# A mark of the values we want to change\n",
    "\n",
    "autos_clean.loc[d,'vehicleType']=autos_clean['model'][d] \n",
    "#setting the missing values in the column vehicle type to match the key of di dictionary\n",
    "\n",
    "autos_clean=autos_clean.replace({'vehicleType': di})\n",
    "#replacing the missing values with values from the same model in other rows."
   ]
  },
  {
   "cell_type": "markdown",
   "metadata": {},
   "source": [
    "Now that we tried to fix the values it is time to see our progress and then delete the remaining missing values."
   ]
  },
  {
   "cell_type": "code",
   "execution_count": 299,
   "metadata": {},
   "outputs": [
    {
     "data": {
      "text/plain": [
       "Text(0.5, 1.0, 'After')"
      ]
     },
     "execution_count": 299,
     "metadata": {},
     "output_type": "execute_result"
    },
    {
     "data": {
      "image/png": "[encoded data removed]",
      "text/plain": [
       "<Figure size 1080x360 with 2 Axes>"
      ]
     },
     "metadata": {},
     "output_type": "display_data"
    }
   ],
   "source": [
    "null_update=autos_clean.isnull()\n",
    "#ploting graphs of missing values before and after our cleaning\n",
    "fig, ax =plt.subplots(1,2,figsize=(15,5))\n",
    "sns.heatmap(~null, cbar=False, yticklabels=False,ax=ax[0]).set_title(\"Before\")\n",
    "sns.heatmap(~null_update, cbar=False, yticklabels=False,ax=ax[1]).set_title(\"After\")\n"
   ]
  },
  {
   "cell_type": "markdown",
   "metadata": {},
   "source": [
    "Now we have the relevant data according to the criteria of our analysis, it is time to check whether deleting missing values."
   ]
  },
  {
   "cell_type": "code",
   "execution_count": 300,
   "metadata": {},
   "outputs": [
    {
     "data": {
      "text/plain": [
       "11.18820363689018"
      ]
     },
     "execution_count": 300,
     "metadata": {},
     "output_type": "execute_result"
    }
   ],
   "source": [
    "100-(autos_clean.dropna(axis=0).shape[0]/autos_clean.shape[0]*100) #percentage missing data"
   ]
  },
  {
   "cell_type": "markdown",
   "metadata": {},
   "source": [
    "So we would miss 11.18% of our relevant dataset, but because it is still a large dataset we will remove the missing rows."
   ]
  },
  {
   "cell_type": "code",
   "execution_count": 301,
   "metadata": {},
   "outputs": [],
   "source": [
    "autos_clean=autos_clean.dropna(axis=0)"
   ]
  },
  {
   "cell_type": "code",
   "execution_count": 302,
   "metadata": {},
   "outputs": [
    {
     "data": {
      "text/plain": [
       "Index(['name', 'seller', 'price', 'vehicleType', 'yearOfRegistration',\n",
       "       'gearbox', 'powerPS', 'model', 'kilometer', 'fuelType', 'brand',\n",
       "       'notRepairedDamage', 'dateCreated'],\n",
       "      dtype='object')"
      ]
     },
     "execution_count": 302,
     "metadata": {},
     "output_type": "execute_result"
    }
   ],
   "source": [
    "autos_clean.columns"
   ]
  },
  {
   "cell_type": "markdown",
   "metadata": {},
   "source": [
    "Our analysis will focus on the columns yearofRegistration and brand, so we will group our data frame by these columns. For the numeric values we are going to group by the average in each year, for the strings values the most common value, and for the boolean values the number of True. because we are doing different analysis we will divide into 3 data frames and merge it later on with the recall dataset. We are doing this way because it makes the code easier to read the code than not dividing the eBay dataset into 3 data frames."
   ]
  },
  {
   "cell_type": "code",
   "execution_count": 303,
   "metadata": {},
   "outputs": [],
   "source": [
    "strings=['seller','vehicleType','gearbox','model','fuelType']\n",
    "numeric=['kilometer','powerPS','price']\n",
    "autos_1=pd.pivot_table(autos_clean,index=[\"brand\",\"yearOfRegistration\"],values=strings,aggfunc=pd.Series.mode)\n",
    "autos_2=pd.pivot_table(autos_clean,index=[\"brand\",\"yearOfRegistration\"],values=numeric,aggfunc=np.mean)\n",
    "autos_3=pd.pivot_table(autos_clean,index=[\"brand\",\"yearOfRegistration\"],values='notRepairedDamage',aggfunc=pd.Series.sum)"
   ]
  },
  {
   "cell_type": "markdown",
   "metadata": {},
   "source": [
    "We are not including the column Datacreate because all its values are 2016 and we already used this information."
   ]
  },
  {
   "cell_type": "markdown",
   "metadata": {},
   "source": [
    "# **Recalls data set**"
   ]
  },
  {
   "cell_type": "markdown",
   "metadata": {},
   "source": [
    "**Explore**"
   ]
  },
  {
   "cell_type": "code",
   "execution_count": 304,
   "metadata": {},
   "outputs": [
    {
     "data": {
      "text/html": [
       "<div>\n",
       "<style scoped>\n",
       "    .dataframe tbody tr th:only-of-type {\n",
       "        vertical-align: middle;\n",
       "    }\n",
       "\n",
       "    .dataframe tbody tr th {\n",
       "        vertical-align: top;\n",
       "    }\n",
       "\n",
       "    .dataframe thead th {\n",
       "        text-align: right;\n",
       "    }\n",
       "</style>\n",
       "<table border=\"1\" class=\"dataframe\">\n",
       "  <thead>\n",
       "    <tr style=\"text-align: right;\">\n",
       "      <th></th>\n",
       "      <th>Record ID</th>\n",
       "      <th>NHTSA Campaign</th>\n",
       "      <th>Manufacturer Campaign</th>\n",
       "      <th>Vehicle Make</th>\n",
       "      <th>Vehicle Model</th>\n",
       "      <th>Model Year</th>\n",
       "      <th>Vehicle Manufacturer</th>\n",
       "      <th>Recall Type</th>\n",
       "      <th>Recall Component</th>\n",
       "      <th>Manufacture Start Date</th>\n",
       "      <th>Manufacture End Date</th>\n",
       "      <th>Estimated Units</th>\n",
       "      <th>Recall Initiative</th>\n",
       "      <th>Recall Manufacturer</th>\n",
       "      <th>Recall Notification Date</th>\n",
       "    </tr>\n",
       "  </thead>\n",
       "  <tbody>\n",
       "    <tr>\n",
       "      <th>0</th>\n",
       "      <td>1</td>\n",
       "      <td>02V288000</td>\n",
       "      <td>02S41</td>\n",
       "      <td>FORD</td>\n",
       "      <td>FOCUS</td>\n",
       "      <td>2001</td>\n",
       "      <td>FORD MOTOR COMPANY</td>\n",
       "      <td>VEHICLE</td>\n",
       "      <td>ELECTRICAL SYSTEM:BATTERY:CABLES</td>\n",
       "      <td>19990719.0</td>\n",
       "      <td>20010531.0</td>\n",
       "      <td>291854.0</td>\n",
       "      <td>ODI</td>\n",
       "      <td>FORD MOTOR COMPANY</td>\n",
       "      <td>20030210.0</td>\n",
       "    </tr>\n",
       "    <tr>\n",
       "      <th>1</th>\n",
       "      <td>2</td>\n",
       "      <td>02V288000</td>\n",
       "      <td>02S41</td>\n",
       "      <td>FORD</td>\n",
       "      <td>FOCUS</td>\n",
       "      <td>2000</td>\n",
       "      <td>FORD MOTOR COMPANY</td>\n",
       "      <td>VEHICLE</td>\n",
       "      <td>ELECTRICAL SYSTEM:BATTERY:CABLES</td>\n",
       "      <td>19990719.0</td>\n",
       "      <td>20010531.0</td>\n",
       "      <td>291854.0</td>\n",
       "      <td>ODI</td>\n",
       "      <td>FORD MOTOR COMPANY</td>\n",
       "      <td>20030210.0</td>\n",
       "    </tr>\n",
       "    <tr>\n",
       "      <th>2</th>\n",
       "      <td>3</td>\n",
       "      <td>02V236000</td>\n",
       "      <td>NaN</td>\n",
       "      <td>JAYCO</td>\n",
       "      <td>FT EAGLE 10 SG</td>\n",
       "      <td>2003</td>\n",
       "      <td>JAYCO, INC.</td>\n",
       "      <td>VEHICLE</td>\n",
       "      <td>EQUIPMENT:OTHER:LABELS</td>\n",
       "      <td>20020730.0</td>\n",
       "      <td>20020813.0</td>\n",
       "      <td>86.0</td>\n",
       "      <td>MFR</td>\n",
       "      <td>JAYCO, INC.</td>\n",
       "      <td>20020923.0</td>\n",
       "    </tr>\n",
       "    <tr>\n",
       "      <th>3</th>\n",
       "      <td>4</td>\n",
       "      <td>02V237000</td>\n",
       "      <td>NaN</td>\n",
       "      <td>HOLIDAY RAMBLER</td>\n",
       "      <td>ADMIRAL SE</td>\n",
       "      <td>2003</td>\n",
       "      <td>MONACO COACH CORP.</td>\n",
       "      <td>VEHICLE</td>\n",
       "      <td>STRUCTURE</td>\n",
       "      <td>NaN</td>\n",
       "      <td>NaN</td>\n",
       "      <td>6223.0</td>\n",
       "      <td>MFR</td>\n",
       "      <td>MONACO COACH CORPORATION</td>\n",
       "      <td>20021105.0</td>\n",
       "    </tr>\n",
       "    <tr>\n",
       "      <th>4</th>\n",
       "      <td>5</td>\n",
       "      <td>02V237000</td>\n",
       "      <td>NaN</td>\n",
       "      <td>HOLIDAY RAMBLER</td>\n",
       "      <td>ADMIRAL SE</td>\n",
       "      <td>2002</td>\n",
       "      <td>MONACO COACH CORP.</td>\n",
       "      <td>VEHICLE</td>\n",
       "      <td>STRUCTURE</td>\n",
       "      <td>NaN</td>\n",
       "      <td>NaN</td>\n",
       "      <td>6223.0</td>\n",
       "      <td>MFR</td>\n",
       "      <td>MONACO COACH CORPORATION</td>\n",
       "      <td>20021105.0</td>\n",
       "    </tr>\n",
       "  </tbody>\n",
       "</table>\n",
       "</div>"
      ],
      "text/plain": [
       "   Record ID NHTSA Campaign Manufacturer Campaign     Vehicle Make  \\\n",
       "0          1      02V288000                 02S41             FORD   \n",
       "1          2      02V288000                 02S41             FORD   \n",
       "2          3      02V236000                   NaN            JAYCO   \n",
       "3          4      02V237000                   NaN  HOLIDAY RAMBLER   \n",
       "4          5      02V237000                   NaN  HOLIDAY RAMBLER   \n",
       "\n",
       "    Vehicle Model  Model Year Vehicle Manufacturer Recall Type  \\\n",
       "0           FOCUS        2001   FORD MOTOR COMPANY     VEHICLE   \n",
       "1           FOCUS        2000   FORD MOTOR COMPANY     VEHICLE   \n",
       "2  FT EAGLE 10 SG        2003          JAYCO, INC.     VEHICLE   \n",
       "3      ADMIRAL SE        2003   MONACO COACH CORP.     VEHICLE   \n",
       "4      ADMIRAL SE        2002   MONACO COACH CORP.     VEHICLE   \n",
       "\n",
       "                   Recall Component  Manufacture Start Date  \\\n",
       "0  ELECTRICAL SYSTEM:BATTERY:CABLES              19990719.0   \n",
       "1  ELECTRICAL SYSTEM:BATTERY:CABLES              19990719.0   \n",
       "2            EQUIPMENT:OTHER:LABELS              20020730.0   \n",
       "3                         STRUCTURE                     NaN   \n",
       "4                         STRUCTURE                     NaN   \n",
       "\n",
       "   Manufacture End Date  Estimated Units Recall Initiative  \\\n",
       "0            20010531.0         291854.0               ODI   \n",
       "1            20010531.0         291854.0               ODI   \n",
       "2            20020813.0             86.0               MFR   \n",
       "3                   NaN           6223.0               MFR   \n",
       "4                   NaN           6223.0               MFR   \n",
       "\n",
       "        Recall Manufacturer  Recall Notification Date  \n",
       "0        FORD MOTOR COMPANY                20030210.0  \n",
       "1        FORD MOTOR COMPANY                20030210.0  \n",
       "2               JAYCO, INC.                20020923.0  \n",
       "3  MONACO COACH CORPORATION                20021105.0  \n",
       "4  MONACO COACH CORPORATION                20021105.0  "
      ]
     },
     "execution_count": 304,
     "metadata": {},
     "output_type": "execute_result"
    }
   ],
   "source": [
    "recall.head()"
   ]
  },
  {
   "cell_type": "markdown",
   "metadata": {},
   "source": [
    "we are interested in the number of recalls in each brand. So we are going to focus on the brand as key in this dataset is called Vehicle Make to merge with eBay data frames."
   ]
  },
  {
   "cell_type": "markdown",
   "metadata": {},
   "source": [
    "The columns we are interested are Vehicle Make, Recall Type, Recall Component and Model year."
   ]
  },
  {
   "cell_type": "code",
   "execution_count": 305,
   "metadata": {},
   "outputs": [],
   "source": [
    "not_exclude_recall=['Vehicle Make','Model Year','Recall Type','Recall Component','Vehicle Model']\n",
    "recall_clean=recall[not_exclude_recall]"
   ]
  },
  {
   "cell_type": "markdown",
   "metadata": {},
   "source": [
    "**Detecting missing values**"
   ]
  },
  {
   "cell_type": "code",
   "execution_count": 306,
   "metadata": {},
   "outputs": [
    {
     "data": {
      "text/plain": [
       "Vehicle Make        0\n",
       "Model Year          0\n",
       "Recall Type         0\n",
       "Recall Component    0\n",
       "Vehicle Model       0\n",
       "dtype: int64"
      ]
     },
     "execution_count": 306,
     "metadata": {},
     "output_type": "execute_result"
    }
   ],
   "source": [
    "recall_clean.isnull().sum()"
   ]
  },
  {
   "cell_type": "markdown",
   "metadata": {},
   "source": [
    "There are no missing values in our rows."
   ]
  },
  {
   "cell_type": "markdown",
   "metadata": {},
   "source": [
    "**Merging  issues**"
   ]
  },
  {
   "cell_type": "markdown",
   "metadata": {},
   "source": [
    "We want to use Vehicle make as the key for merging our data frames,but in the eBay dataset it is called brand. So let's rename Vehicle make to brand"
   ]
  },
  {
   "cell_type": "code",
   "execution_count": 307,
   "metadata": {},
   "outputs": [],
   "source": [
    "recall_clean=recall_clean.rename(columns={'Vehicle Make':'brand','Model Year':'yearOfRegistration'}, inplace=False)\n"
   ]
  },
  {
   "cell_type": "markdown",
   "metadata": {},
   "source": [
    "There is a another difference in brand between the datasets, in the eBay dataset the brands name are in lowercase and the words are separeted by an underline, while the recall dataset is in uppercase and a space between the words. To fix this problem we are going to transform to lowercase and also add an underline between words. "
   ]
  },
  {
   "cell_type": "code",
   "execution_count": 308,
   "metadata": {},
   "outputs": [
    {
     "data": {
      "text/html": [
       "<div>\n",
       "<style scoped>\n",
       "    .dataframe tbody tr th:only-of-type {\n",
       "        vertical-align: middle;\n",
       "    }\n",
       "\n",
       "    .dataframe tbody tr th {\n",
       "        vertical-align: top;\n",
       "    }\n",
       "\n",
       "    .dataframe thead th {\n",
       "        text-align: right;\n",
       "    }\n",
       "</style>\n",
       "<table border=\"1\" class=\"dataframe\">\n",
       "  <thead>\n",
       "    <tr style=\"text-align: right;\">\n",
       "      <th></th>\n",
       "      <th>brand</th>\n",
       "      <th>yearOfRegistration</th>\n",
       "      <th>Recall Type</th>\n",
       "      <th>Recall Component</th>\n",
       "      <th>Vehicle Model</th>\n",
       "    </tr>\n",
       "  </thead>\n",
       "  <tbody>\n",
       "    <tr>\n",
       "      <th>0</th>\n",
       "      <td>ford</td>\n",
       "      <td>2001</td>\n",
       "      <td>VEHICLE</td>\n",
       "      <td>ELECTRICAL SYSTEM:BATTERY:CABLES</td>\n",
       "      <td>FOCUS</td>\n",
       "    </tr>\n",
       "    <tr>\n",
       "      <th>1</th>\n",
       "      <td>ford</td>\n",
       "      <td>2000</td>\n",
       "      <td>VEHICLE</td>\n",
       "      <td>ELECTRICAL SYSTEM:BATTERY:CABLES</td>\n",
       "      <td>FOCUS</td>\n",
       "    </tr>\n",
       "    <tr>\n",
       "      <th>2</th>\n",
       "      <td>jayco</td>\n",
       "      <td>2003</td>\n",
       "      <td>VEHICLE</td>\n",
       "      <td>EQUIPMENT:OTHER:LABELS</td>\n",
       "      <td>FT EAGLE 10 SG</td>\n",
       "    </tr>\n",
       "    <tr>\n",
       "      <th>3</th>\n",
       "      <td>holiday_rambler</td>\n",
       "      <td>2003</td>\n",
       "      <td>VEHICLE</td>\n",
       "      <td>STRUCTURE</td>\n",
       "      <td>ADMIRAL SE</td>\n",
       "    </tr>\n",
       "    <tr>\n",
       "      <th>4</th>\n",
       "      <td>holiday_rambler</td>\n",
       "      <td>2002</td>\n",
       "      <td>VEHICLE</td>\n",
       "      <td>STRUCTURE</td>\n",
       "      <td>ADMIRAL SE</td>\n",
       "    </tr>\n",
       "  </tbody>\n",
       "</table>\n",
       "</div>"
      ],
      "text/plain": [
       "             brand  yearOfRegistration Recall Type  \\\n",
       "0             ford                2001     VEHICLE   \n",
       "1             ford                2000     VEHICLE   \n",
       "2            jayco                2003     VEHICLE   \n",
       "3  holiday_rambler                2003     VEHICLE   \n",
       "4  holiday_rambler                2002     VEHICLE   \n",
       "\n",
       "                   Recall Component   Vehicle Model  \n",
       "0  ELECTRICAL SYSTEM:BATTERY:CABLES           FOCUS  \n",
       "1  ELECTRICAL SYSTEM:BATTERY:CABLES           FOCUS  \n",
       "2            EQUIPMENT:OTHER:LABELS  FT EAGLE 10 SG  \n",
       "3                         STRUCTURE      ADMIRAL SE  \n",
       "4                         STRUCTURE      ADMIRAL SE  "
      ]
     },
     "execution_count": 308,
     "metadata": {},
     "output_type": "execute_result"
    }
   ],
   "source": [
    "recall_clean.loc[:,'brand']=recall_clean.loc[:,'brand'].str.replace(' +', '_').str.lower().str.strip('_')\n",
    "recall_clean.head()"
   ]
  },
  {
   "cell_type": "markdown",
   "metadata": {},
   "source": [
    "**Detecting anomalies**"
   ]
  },
  {
   "cell_type": "code",
   "execution_count": 309,
   "metadata": {},
   "outputs": [
    {
     "data": {
      "text/plain": [
       "count    123837.000000\n",
       "mean       2506.142348\n",
       "std        1948.678174\n",
       "min        1949.000000\n",
       "25%        1994.000000\n",
       "50%        2003.000000\n",
       "75%        2010.000000\n",
       "max        9999.000000\n",
       "Name: yearOfRegistration, dtype: float64"
      ]
     },
     "execution_count": 309,
     "metadata": {},
     "output_type": "execute_result"
    }
   ],
   "source": [
    "recall_clean['yearOfRegistration'].describe()"
   ]
  },
  {
   "cell_type": "markdown",
   "metadata": {},
   "source": [
    "The range of vehicules model has some values that are impossible,vehichiles that are made in the future the year 9999. The minimum year is 1949 what is actually possible, but in order to match eBay dataset we also limit the year from 1980 to 2015."
   ]
  },
  {
   "cell_type": "code",
   "execution_count": 310,
   "metadata": {},
   "outputs": [],
   "source": [
    "recall_clean=recall_clean[recall_clean['yearOfRegistration'].between(1980,2015)]"
   ]
  },
  {
   "cell_type": "markdown",
   "metadata": {},
   "source": [
    "We are interested in the number of recalls per each brand,so we will group the brands and  Model Year and analyse the the most commonn Recall Type and Recall Component"
   ]
  },
  {
   "cell_type": "code",
   "execution_count": 311,
   "metadata": {},
   "outputs": [],
   "source": [
    "recall_merge=pd.pivot_table(recall_clean,index=[\"brand\",\"yearOfRegistration\"], values=['Recall Type','Recall Component','Vehicle Model'],  aggfunc=pd.Series.mode)"
   ]
  },
  {
   "cell_type": "code",
   "execution_count": 312,
   "metadata": {},
   "outputs": [
    {
     "data": {
      "text/html": [
       "<div>\n",
       "<style scoped>\n",
       "    .dataframe tbody tr th:only-of-type {\n",
       "        vertical-align: middle;\n",
       "    }\n",
       "\n",
       "    .dataframe tbody tr th {\n",
       "        vertical-align: top;\n",
       "    }\n",
       "\n",
       "    .dataframe thead th {\n",
       "        text-align: right;\n",
       "    }\n",
       "</style>\n",
       "<table border=\"1\" class=\"dataframe\">\n",
       "  <thead>\n",
       "    <tr style=\"text-align: right;\">\n",
       "      <th></th>\n",
       "      <th></th>\n",
       "      <th>Recall Component</th>\n",
       "      <th>Recall Type</th>\n",
       "      <th>Vehicle Model</th>\n",
       "    </tr>\n",
       "    <tr>\n",
       "      <th>brand</th>\n",
       "      <th>yearOfRegistration</th>\n",
       "      <th></th>\n",
       "      <th></th>\n",
       "      <th></th>\n",
       "    </tr>\n",
       "  </thead>\n",
       "  <tbody>\n",
       "    <tr>\n",
       "      <th rowspan=\"5\" valign=\"top\">4-star</th>\n",
       "      <th>2006</th>\n",
       "      <td>LATCHES/LOCKS/LINKAGES</td>\n",
       "      <td>VEHICLE</td>\n",
       "      <td>HORSE TRAILER</td>\n",
       "    </tr>\n",
       "    <tr>\n",
       "      <th>2007</th>\n",
       "      <td>LATCHES/LOCKS/LINKAGES</td>\n",
       "      <td>VEHICLE</td>\n",
       "      <td>HORSE TRAILER</td>\n",
       "    </tr>\n",
       "    <tr>\n",
       "      <th>2008</th>\n",
       "      <td>LATCHES/LOCKS/LINKAGES</td>\n",
       "      <td>VEHICLE</td>\n",
       "      <td>HORSE TRAILER</td>\n",
       "    </tr>\n",
       "    <tr>\n",
       "      <th>2009</th>\n",
       "      <td>LATCHES/LOCKS/LINKAGES</td>\n",
       "      <td>VEHICLE</td>\n",
       "      <td>HORSE TRAILER</td>\n",
       "    </tr>\n",
       "    <tr>\n",
       "      <th>2010</th>\n",
       "      <td>LATCHES/LOCKS/LINKAGES</td>\n",
       "      <td>VEHICLE</td>\n",
       "      <td>HORSE TRAILER</td>\n",
       "    </tr>\n",
       "    <tr>\n",
       "      <th>...</th>\n",
       "      <th>...</th>\n",
       "      <td>...</td>\n",
       "      <td>...</td>\n",
       "      <td>...</td>\n",
       "    </tr>\n",
       "    <tr>\n",
       "      <th>zero</th>\n",
       "      <th>2015</th>\n",
       "      <td>[ELECTRICAL SYSTEM, EXTERIOR LIGHTING, SERVICE...</td>\n",
       "      <td>VEHICLE</td>\n",
       "      <td>[DS, FX, S, SR]</td>\n",
       "    </tr>\n",
       "    <tr>\n",
       "      <th>zieman</th>\n",
       "      <th>1980</th>\n",
       "      <td>TRAILER HITCHES</td>\n",
       "      <td>VEHICLE</td>\n",
       "      <td>[D2, D2W, ZIEMAN]</td>\n",
       "    </tr>\n",
       "    <tr>\n",
       "      <th rowspan=\"3\" valign=\"top\">zimmer</th>\n",
       "      <th>1980</th>\n",
       "      <td>[EXTERIOR LIGHTING:HEADLIGHTS, SERVICE BRAKES,...</td>\n",
       "      <td>VEHICLE</td>\n",
       "      <td>[GOLDEN SPIRIT, ZIMMER]</td>\n",
       "    </tr>\n",
       "    <tr>\n",
       "      <th>1981</th>\n",
       "      <td>[EXTERIOR LIGHTING:HEADLIGHTS, SEAT BELTS:FRON...</td>\n",
       "      <td>VEHICLE</td>\n",
       "      <td>[GOLDEN SPIRIT, VAN, ZIMMER]</td>\n",
       "    </tr>\n",
       "    <tr>\n",
       "      <th>1982</th>\n",
       "      <td>[EXTERIOR LIGHTING:HEADLIGHTS, SEATS]</td>\n",
       "      <td>VEHICLE</td>\n",
       "      <td>ZIMMER</td>\n",
       "    </tr>\n",
       "  </tbody>\n",
       "</table>\n",
       "<p>9448 rows × 3 columns</p>\n",
       "</div>"
      ],
      "text/plain": [
       "                                                            Recall Component  \\\n",
       "brand  yearOfRegistration                                                      \n",
       "4-star 2006                                           LATCHES/LOCKS/LINKAGES   \n",
       "       2007                                           LATCHES/LOCKS/LINKAGES   \n",
       "       2008                                           LATCHES/LOCKS/LINKAGES   \n",
       "       2009                                           LATCHES/LOCKS/LINKAGES   \n",
       "       2010                                           LATCHES/LOCKS/LINKAGES   \n",
       "...                                                                      ...   \n",
       "zero   2015                [ELECTRICAL SYSTEM, EXTERIOR LIGHTING, SERVICE...   \n",
       "zieman 1980                                                  TRAILER HITCHES   \n",
       "zimmer 1980                [EXTERIOR LIGHTING:HEADLIGHTS, SERVICE BRAKES,...   \n",
       "       1981                [EXTERIOR LIGHTING:HEADLIGHTS, SEAT BELTS:FRON...   \n",
       "       1982                            [EXTERIOR LIGHTING:HEADLIGHTS, SEATS]   \n",
       "\n",
       "                          Recall Type                 Vehicle Model  \n",
       "brand  yearOfRegistration                                            \n",
       "4-star 2006                   VEHICLE                 HORSE TRAILER  \n",
       "       2007                   VEHICLE                 HORSE TRAILER  \n",
       "       2008                   VEHICLE                 HORSE TRAILER  \n",
       "       2009                   VEHICLE                 HORSE TRAILER  \n",
       "       2010                   VEHICLE                 HORSE TRAILER  \n",
       "...                               ...                           ...  \n",
       "zero   2015                   VEHICLE               [DS, FX, S, SR]  \n",
       "zieman 1980                   VEHICLE             [D2, D2W, ZIEMAN]  \n",
       "zimmer 1980                   VEHICLE       [GOLDEN SPIRIT, ZIMMER]  \n",
       "       1981                   VEHICLE  [GOLDEN SPIRIT, VAN, ZIMMER]  \n",
       "       1982                   VEHICLE                        ZIMMER  \n",
       "\n",
       "[9448 rows x 3 columns]"
      ]
     },
     "execution_count": 312,
     "metadata": {},
     "output_type": "execute_result"
    }
   ],
   "source": [
    "recall_merge"
   ]
  },
  {
   "cell_type": "markdown",
   "metadata": {},
   "source": [
    "**Joining multiples datasets**"
   ]
  },
  {
   "cell_type": "markdown",
   "metadata": {},
   "source": [
    "we are going to merge the Dataframes that came from the same dataset eBay, the method  is not important because these data frames have the same number of rows."
   ]
  },
  {
   "cell_type": "code",
   "execution_count": 313,
   "metadata": {},
   "outputs": [
    {
     "name": "stdout",
     "output_type": "stream",
     "text": [
      "(1200, 5)\n",
      "(1200, 3)\n",
      "(1200, 1)\n"
     ]
    }
   ],
   "source": [
    "print(autos_1.shape)\n",
    "print(autos_2.shape)\n",
    "print(autos_3.shape)"
   ]
  },
  {
   "cell_type": "code",
   "execution_count": 314,
   "metadata": {},
   "outputs": [],
   "source": [
    "autos_combined=autos_1.merge(autos_2, on=[\"brand\",\"yearOfRegistration\"]).merge(autos_3, on=[\"brand\",\"yearOfRegistration\"])"
   ]
  },
  {
   "cell_type": "markdown",
   "metadata": {},
   "source": [
    "Now for the recall data frame, the data frame from eBay is more important to consider how to merge, so we are going to make the recall data set to adapt to the eBay one using the left method, but before merging lets change Vehicle Model to recall model to not confuse with model from ebay dataset."
   ]
  },
  {
   "cell_type": "code",
   "execution_count": 315,
   "metadata": {},
   "outputs": [],
   "source": [
    "recall_merge=recall_merge.rename(columns={'Vehicle Model':'Recall model'})"
   ]
  },
  {
   "cell_type": "code",
   "execution_count": 316,
   "metadata": {},
   "outputs": [
    {
     "data": {
      "text/html": [
       "<div>\n",
       "<style scoped>\n",
       "    .dataframe tbody tr th:only-of-type {\n",
       "        vertical-align: middle;\n",
       "    }\n",
       "\n",
       "    .dataframe tbody tr th {\n",
       "        vertical-align: top;\n",
       "    }\n",
       "\n",
       "    .dataframe thead th {\n",
       "        text-align: right;\n",
       "    }\n",
       "</style>\n",
       "<table border=\"1\" class=\"dataframe\">\n",
       "  <thead>\n",
       "    <tr style=\"text-align: right;\">\n",
       "      <th></th>\n",
       "      <th></th>\n",
       "      <th>fuelType</th>\n",
       "      <th>gearbox</th>\n",
       "      <th>model</th>\n",
       "      <th>seller</th>\n",
       "      <th>vehicleType</th>\n",
       "      <th>kilometer</th>\n",
       "      <th>powerPS</th>\n",
       "      <th>price</th>\n",
       "      <th>notRepairedDamage</th>\n",
       "      <th>Recall Component</th>\n",
       "      <th>Recall Type</th>\n",
       "      <th>Recall model</th>\n",
       "    </tr>\n",
       "    <tr>\n",
       "      <th>brand</th>\n",
       "      <th>yearOfRegistration</th>\n",
       "      <th></th>\n",
       "      <th></th>\n",
       "      <th></th>\n",
       "      <th></th>\n",
       "      <th></th>\n",
       "      <th></th>\n",
       "      <th></th>\n",
       "      <th></th>\n",
       "      <th></th>\n",
       "      <th></th>\n",
       "      <th></th>\n",
       "      <th></th>\n",
       "    </tr>\n",
       "  </thead>\n",
       "  <tbody>\n",
       "    <tr>\n",
       "      <th rowspan=\"5\" valign=\"top\">alfa_romeo</th>\n",
       "      <th>1980</th>\n",
       "      <td>benzin</td>\n",
       "      <td>manuell</td>\n",
       "      <td>spider</td>\n",
       "      <td>privat</td>\n",
       "      <td>cabrio</td>\n",
       "      <td>67500.000000</td>\n",
       "      <td>105.750000</td>\n",
       "      <td>13562.250000</td>\n",
       "      <td>0</td>\n",
       "      <td>[ELECTRICAL SYSTEM:IGNITION:SWITCH, FUEL SYSTE...</td>\n",
       "      <td>VEHICLE</td>\n",
       "      <td>SPIDER</td>\n",
       "    </tr>\n",
       "    <tr>\n",
       "      <th>1981</th>\n",
       "      <td>benzin</td>\n",
       "      <td>manuell</td>\n",
       "      <td>spider</td>\n",
       "      <td>privat</td>\n",
       "      <td>cabrio</td>\n",
       "      <td>121666.666667</td>\n",
       "      <td>127.666667</td>\n",
       "      <td>14900.000000</td>\n",
       "      <td>0</td>\n",
       "      <td>ELECTRICAL SYSTEM:IGNITION:SWITCH</td>\n",
       "      <td>VEHICLE</td>\n",
       "      <td>SPIDER</td>\n",
       "    </tr>\n",
       "    <tr>\n",
       "      <th>1982</th>\n",
       "      <td>benzin</td>\n",
       "      <td>manuell</td>\n",
       "      <td>spider</td>\n",
       "      <td>privat</td>\n",
       "      <td>cabrio</td>\n",
       "      <td>127000.000000</td>\n",
       "      <td>137.000000</td>\n",
       "      <td>17259.600000</td>\n",
       "      <td>1</td>\n",
       "      <td>ELECTRICAL SYSTEM:IGNITION:SWITCH</td>\n",
       "      <td>VEHICLE</td>\n",
       "      <td>[GTV6, SPIDER]</td>\n",
       "    </tr>\n",
       "    <tr>\n",
       "      <th>1983</th>\n",
       "      <td>benzin</td>\n",
       "      <td>manuell</td>\n",
       "      <td>spider</td>\n",
       "      <td>privat</td>\n",
       "      <td>cabrio</td>\n",
       "      <td>141666.666667</td>\n",
       "      <td>118.666667</td>\n",
       "      <td>12033.333333</td>\n",
       "      <td>0</td>\n",
       "      <td>NaN</td>\n",
       "      <td>NaN</td>\n",
       "      <td>NaN</td>\n",
       "    </tr>\n",
       "    <tr>\n",
       "      <th>1984</th>\n",
       "      <td>benzin</td>\n",
       "      <td>manuell</td>\n",
       "      <td>spider</td>\n",
       "      <td>privat</td>\n",
       "      <td>cabrio</td>\n",
       "      <td>65000.000000</td>\n",
       "      <td>126.000000</td>\n",
       "      <td>12799.666667</td>\n",
       "      <td>0</td>\n",
       "      <td>NaN</td>\n",
       "      <td>NaN</td>\n",
       "      <td>NaN</td>\n",
       "    </tr>\n",
       "  </tbody>\n",
       "</table>\n",
       "</div>"
      ],
      "text/plain": [
       "                              fuelType  gearbox   model  seller vehicleType  \\\n",
       "brand      yearOfRegistration                                                 \n",
       "alfa_romeo 1980                 benzin  manuell  spider  privat      cabrio   \n",
       "           1981                 benzin  manuell  spider  privat      cabrio   \n",
       "           1982                 benzin  manuell  spider  privat      cabrio   \n",
       "           1983                 benzin  manuell  spider  privat      cabrio   \n",
       "           1984                 benzin  manuell  spider  privat      cabrio   \n",
       "\n",
       "                                   kilometer     powerPS         price  \\\n",
       "brand      yearOfRegistration                                            \n",
       "alfa_romeo 1980                 67500.000000  105.750000  13562.250000   \n",
       "           1981                121666.666667  127.666667  14900.000000   \n",
       "           1982                127000.000000  137.000000  17259.600000   \n",
       "           1983                141666.666667  118.666667  12033.333333   \n",
       "           1984                 65000.000000  126.000000  12799.666667   \n",
       "\n",
       "                               notRepairedDamage  \\\n",
       "brand      yearOfRegistration                      \n",
       "alfa_romeo 1980                                0   \n",
       "           1981                                0   \n",
       "           1982                                1   \n",
       "           1983                                0   \n",
       "           1984                                0   \n",
       "\n",
       "                                                                Recall Component  \\\n",
       "brand      yearOfRegistration                                                      \n",
       "alfa_romeo 1980                [ELECTRICAL SYSTEM:IGNITION:SWITCH, FUEL SYSTE...   \n",
       "           1981                                ELECTRICAL SYSTEM:IGNITION:SWITCH   \n",
       "           1982                                ELECTRICAL SYSTEM:IGNITION:SWITCH   \n",
       "           1983                                                              NaN   \n",
       "           1984                                                              NaN   \n",
       "\n",
       "                              Recall Type    Recall model  \n",
       "brand      yearOfRegistration                              \n",
       "alfa_romeo 1980                   VEHICLE          SPIDER  \n",
       "           1981                   VEHICLE          SPIDER  \n",
       "           1982                   VEHICLE  [GTV6, SPIDER]  \n",
       "           1983                       NaN             NaN  \n",
       "           1984                       NaN             NaN  "
      ]
     },
     "execution_count": 316,
     "metadata": {},
     "output_type": "execute_result"
    }
   ],
   "source": [
    "combined=autos_combined.merge(recall_merge, on=[\"brand\",\"yearOfRegistration\"],how='left')\n",
    "combined.head()"
   ]
  },
  {
   "cell_type": "code",
   "execution_count": 317,
   "metadata": {},
   "outputs": [
    {
     "data": {
      "text/plain": [
       "(1200, 12)"
      ]
     },
     "execution_count": 317,
     "metadata": {},
     "output_type": "execute_result"
    }
   ],
   "source": [
    "combined.shape"
   ]
  },
  {
   "cell_type": "markdown",
   "metadata": {},
   "source": [
    "As we can see the still have the same number of raws from the eBay dataset, also noticed that there are a few values of Recall columns that are NaN because a recall did not happen that year model"
   ]
  },
  {
   "cell_type": "markdown",
   "metadata": {},
   "source": [
    "**Data exploratory analysis**"
   ]
  },
  {
   "cell_type": "markdown",
   "metadata": {},
   "source": [
    "The first question we want to answer is which one is the most popular brand and model on eBay."
   ]
  },
  {
   "cell_type": "code",
   "execution_count": 318,
   "metadata": {},
   "outputs": [
    {
     "data": {
      "image/png": "[encoded data removed]",
      "text/plain": [
       "<Figure size 1080x360 with 1 Axes>"
      ]
     },
     "metadata": {},
     "output_type": "display_data"
    }
   ],
   "source": [
    "brand=autos_clean.groupby(['brand']).size().sort_values(ascending=False) #separate the dataset by brand\n",
    "Total_cars=(brand.sum())/100\n",
    "\n",
    "#plot most popular brands\n",
    "fig, ax =plt.subplots(figsize=(15,5))\n",
    "ax.set_title('Brand percentage of eBay cars')\n",
    "sns.set(font_scale=1.3)\n",
    "ranking=sns.barplot(x=brand.index, y=brand/Total_cars,)# percentage\n",
    "ranking=ranking.set_xticklabels(labels=brand.index,rotation=80)\n",
    "\n",
    "\n",
    "\n"
   ]
  },
  {
   "cell_type": "markdown",
   "metadata": {},
   "source": [
    " The first consideration is that Volkswagen has 10% more cars than than the second most popular brand BMW. A second one is that the brands Volkswagen, BMW, Opel, Mercedes Benz,Audi and ford have more cars in eBay than the sum of all other brands. The charactheristic all that the top 5  most popular brands share is that all of them are german companies. The only german company that is not on the top of the list is porsche."
   ]
  },
  {
   "cell_type": "code",
   "execution_count": 319,
   "metadata": {},
   "outputs": [
    {
     "data": {
      "image/png": "[encoded data removed]",
      "text/plain": [
       "<Figure size 1080x432 with 1 Axes>"
      ]
     },
     "metadata": {},
     "output_type": "display_data"
    }
   ],
   "source": [
    "model=autos_clean.groupby(['model','brand']).size().sort_values(ascending=False) #separate by model and brand\n",
    "model_top20=model[0:20]\n",
    "\n",
    "#plot most popular cars\n",
    "fig, ax =plt.subplots(1,1,figsize=(15,6))\n",
    "sns.set(font_scale=1.3)\n",
    "ax.set_title('Top popular cars')\n",
    "t=sns.barplot(x=model_top20.index, y=model_top20).set_xticklabels(labels=model_top20.index,rotation=80)\n"
   ]
  },
  {
   "cell_type": "markdown",
   "metadata": {},
   "source": [
    "Not surprisingly the top 10 most popular cars belong to the top 4 four most popular brands. Golf is the most popular car on eBay.Now that we alredy know the most popular brands and cars is time to adress which characterics they have."
   ]
  },
  {
   "cell_type": "markdown",
   "metadata": {},
   "source": [
    "From now on we are going only to explore the top 6 most popular brands Volkswagen, BMW, Opel, Mercedes Benz,Audi and ford.\n"
   ]
  },
  {
   "cell_type": "code",
   "execution_count": 320,
   "metadata": {},
   "outputs": [],
   "source": [
    "autos_top=autos_clean[(autos_clean['brand']=='volkswagen')|(autos_clean['brand']=='bmw')|(autos_clean['brand']=='opel')|(autos_clean['brand']=='audi')|(autos_clean['brand']=='mercedes_benz')|(autos_clean['brand']=='ford')]\n"
   ]
  },
  {
   "cell_type": "code",
   "execution_count": 321,
   "metadata": {},
   "outputs": [
    {
     "data": {
      "text/plain": [
       "<seaborn.axisgrid.FacetGrid at 0x20e35d48970>"
      ]
     },
     "execution_count": 321,
     "metadata": {},
     "output_type": "execute_result"
    },
    {
     "data": {
      "image/png": "[encoded data removed]",
      "text/plain": [
       "<Figure size 1232.98x360 with 1 Axes>"
      ]
     },
     "metadata": {},
     "output_type": "display_data"
    }
   ],
   "source": [
    "autos_clean_top_=autos_top[autos_top['yearOfRegistration']>2011]\n",
    "\n",
    "sns.catplot(data=autos_clean_top_,kind='count',x='yearOfRegistration',hue='brand',height=5, # make the plot 5 units high\n",
    "    aspect=3)"
   ]
  },
  {
   "cell_type": "markdown",
   "metadata": {},
   "source": [
    "The graph above shows that Volkswage is responsible for the majority per year model in the last 4 years, while the 5 other positions have flutuated among the positions."
   ]
  },
  {
   "cell_type": "code",
   "execution_count": 322,
   "metadata": {},
   "outputs": [],
   "source": [
    "combined=combined.reset_index()\n",
    "combined=combined[combined['yearOfRegistration']>2011]\n",
    "combined=combined[(combined['brand']=='volkswagen')|(combined['brand']=='bmw')|(combined['brand']=='opel')|(combined['brand']=='audi')|(combined['brand']=='mercedes_benz')|(combined['brand']=='ford')]"
   ]
  },
  {
   "cell_type": "code",
   "execution_count": 323,
   "metadata": {},
   "outputs": [
    {
     "data": {
      "text/plain": [
       "<matplotlib.axes._subplots.AxesSubplot at 0x20e1488b0d0>"
      ]
     },
     "execution_count": 323,
     "metadata": {},
     "output_type": "execute_result"
    },
    {
     "data": {
      "image/png": "[encoded data removed]",
      "text/plain": [
       "<Figure size 1080x432 with 1 Axes>"
      ]
     },
     "metadata": {},
     "output_type": "display_data"
    }
   ],
   "source": [
    "#plot number of damaged cars\n",
    "fig, ax =plt.subplots(1,1,figsize=(15,6))\n",
    "sns.barplot(x='yearOfRegistration', y='notRepairedDamage', hue='brand', data=combined)"
   ]
  },
  {
   "cell_type": "markdown",
   "metadata": {},
   "source": [
    "Looking at the graph of the past year we see that Volkswagen is also the brand that has damaged cars, except for 2014, what would be expected since it is the company with more cars on eBay. The surprise is that Mercedez Benz usually ranks second place and for the year model 2014 it has even more than Volkswagen."
   ]
  },
  {
   "cell_type": "code",
   "execution_count": 324,
   "metadata": {},
   "outputs": [
    {
     "data": {
      "text/plain": [
       "<matplotlib.legend.Legend at 0x20e09800580>"
      ]
     },
     "execution_count": 324,
     "metadata": {},
     "output_type": "execute_result"
    },
    {
     "data": {
      "image/png": "[encoded data removed]",
      "text/plain": [
       "<Figure size 1080x432 with 2 Axes>"
      ]
     },
     "metadata": {},
     "output_type": "display_data"
    }
   ],
   "source": [
    "fig, ax =plt.subplots(1,2,figsize=(15,6))\n",
    "ax1 = sns.lineplot(x=\"yearOfRegistration\", y=\"powerPS\",hue='brand',legend=False, data=combined,marker='o',ax=ax[0])\n",
    "ax2 = sns.lineplot(x=\"yearOfRegistration\", y=\"price\",hue='brand', data=combined,marker='o',ax=ax[1])\n",
    "plt.legend(bbox_to_anchor=(1.05, 1), loc=2, borderaxespad=0.)"
   ]
  },
  {
   "cell_type": "code",
   "execution_count": 325,
   "metadata": {},
   "outputs": [
    {
     "data": {
      "image/png": "[encoded data removed]",
      "text/plain": [
       "<Figure size 1080x432 with 1 Axes>"
      ]
     },
     "metadata": {},
     "output_type": "display_data"
    }
   ],
   "source": [
    "fig, ax =plt.subplots(1,1,figsize=(15,6))\n",
    "ax3 = sns.lineplot(x=\"yearOfRegistration\", y=\"kilometer\",hue='brand',legend='brief', data=combined,marker='o')"
   ]
  },
  {
   "cell_type": "markdown",
   "metadata": {},
   "source": [
    "From the graphics, we see that among the top 6 most popular brands they are divided into two groups the ones for high-end consumers, BMW, Audi, and Mercedes bens because they have higher engine power and also higher price. The graph about the Kilometer shows that the 6 companies in this aspect are in similar levels."
   ]
  },
  {
   "cell_type": "markdown",
   "metadata": {},
   "source": [
    "For the final step, we are going to check if the most popular models of each company are the ones wich most recalls."
   ]
  },
  {
   "cell_type": "code",
   "execution_count": 336,
   "metadata": {},
   "outputs": [],
   "source": [
    "exclude_combined=['seller','kilometer','powerPS','price','notRepairedDamage','yearOfRegistration']\n",
    "def combined_year(year):# return a table per year showing the most frequent values for each brand\n",
    "    combined__=combined[combined['yearOfRegistration']==year]\n",
    "    combined__=combined__.drop(exclude_combined,axis=1)\n",
    "    return combined__"
   ]
  },
  {
   "cell_type": "code",
   "execution_count": 337,
   "metadata": {},
   "outputs": [
    {
     "data": {
      "text/html": [
       "<div>\n",
       "<style scoped>\n",
       "    .dataframe tbody tr th:only-of-type {\n",
       "        vertical-align: middle;\n",
       "    }\n",
       "\n",
       "    .dataframe tbody tr th {\n",
       "        vertical-align: top;\n",
       "    }\n",
       "\n",
       "    .dataframe thead th {\n",
       "        text-align: right;\n",
       "    }\n",
       "</style>\n",
       "<table border=\"1\" class=\"dataframe\">\n",
       "  <thead>\n",
       "    <tr style=\"text-align: right;\">\n",
       "      <th></th>\n",
       "      <th>brand</th>\n",
       "      <th>fuelType</th>\n",
       "      <th>gearbox</th>\n",
       "      <th>model</th>\n",
       "      <th>vehicleType</th>\n",
       "      <th>Recall Component</th>\n",
       "      <th>Recall Type</th>\n",
       "      <th>Recall model</th>\n",
       "    </tr>\n",
       "  </thead>\n",
       "  <tbody>\n",
       "    <tr>\n",
       "      <th>71</th>\n",
       "      <td>audi</td>\n",
       "      <td>diesel</td>\n",
       "      <td>automatik</td>\n",
       "      <td>a3</td>\n",
       "      <td>limousine</td>\n",
       "      <td>ENGINE AND ENGINE COOLING:COOLING SYSTEM</td>\n",
       "      <td>VEHICLE</td>\n",
       "      <td>A3</td>\n",
       "    </tr>\n",
       "    <tr>\n",
       "      <th>107</th>\n",
       "      <td>bmw</td>\n",
       "      <td>diesel</td>\n",
       "      <td>automatik</td>\n",
       "      <td>x_reihe</td>\n",
       "      <td>limousine</td>\n",
       "      <td>EXTERIOR LIGHTING</td>\n",
       "      <td>VEHICLE</td>\n",
       "      <td>[X3, X4, X5]</td>\n",
       "    </tr>\n",
       "    <tr>\n",
       "      <th>336</th>\n",
       "      <td>ford</td>\n",
       "      <td>benzin</td>\n",
       "      <td>manuell</td>\n",
       "      <td>fiesta</td>\n",
       "      <td>kleinwagen</td>\n",
       "      <td>POWER TRAIN:AUTOMATIC TRANSMISSION:CONTROL MOD...</td>\n",
       "      <td>VEHICLE</td>\n",
       "      <td>TRANSIT</td>\n",
       "    </tr>\n",
       "    <tr>\n",
       "      <th>642</th>\n",
       "      <td>mercedes_benz</td>\n",
       "      <td>diesel</td>\n",
       "      <td>automatik</td>\n",
       "      <td>andere</td>\n",
       "      <td>limousine</td>\n",
       "      <td>ENGINE AND ENGINE COOLING:ENGINE:DIESEL</td>\n",
       "      <td>VEHICLE</td>\n",
       "      <td>[SPRINTER 2500, SPRINTER 3500]</td>\n",
       "    </tr>\n",
       "    <tr>\n",
       "      <th>779</th>\n",
       "      <td>opel</td>\n",
       "      <td>benzin</td>\n",
       "      <td>manuell</td>\n",
       "      <td>andere</td>\n",
       "      <td>kleinwagen</td>\n",
       "      <td>NaN</td>\n",
       "      <td>NaN</td>\n",
       "      <td>NaN</td>\n",
       "    </tr>\n",
       "    <tr>\n",
       "      <th>1164</th>\n",
       "      <td>volkswagen</td>\n",
       "      <td>benzin</td>\n",
       "      <td>manuell</td>\n",
       "      <td>golf</td>\n",
       "      <td>limousine</td>\n",
       "      <td>[ENGINE AND ENGINE COOLING:ENGINE, FUEL SYSTEM...</td>\n",
       "      <td>VEHICLE</td>\n",
       "      <td>GOLF</td>\n",
       "    </tr>\n",
       "  </tbody>\n",
       "</table>\n",
       "</div>"
      ],
      "text/plain": [
       "              brand fuelType    gearbox    model vehicleType  \\\n",
       "71             audi   diesel  automatik       a3   limousine   \n",
       "107             bmw   diesel  automatik  x_reihe   limousine   \n",
       "336            ford   benzin    manuell   fiesta  kleinwagen   \n",
       "642   mercedes_benz   diesel  automatik   andere   limousine   \n",
       "779            opel   benzin    manuell   andere  kleinwagen   \n",
       "1164     volkswagen   benzin    manuell     golf   limousine   \n",
       "\n",
       "                                       Recall Component Recall Type  \\\n",
       "71             ENGINE AND ENGINE COOLING:COOLING SYSTEM     VEHICLE   \n",
       "107                                   EXTERIOR LIGHTING     VEHICLE   \n",
       "336   POWER TRAIN:AUTOMATIC TRANSMISSION:CONTROL MOD...     VEHICLE   \n",
       "642             ENGINE AND ENGINE COOLING:ENGINE:DIESEL     VEHICLE   \n",
       "779                                                 NaN         NaN   \n",
       "1164  [ENGINE AND ENGINE COOLING:ENGINE, FUEL SYSTEM...     VEHICLE   \n",
       "\n",
       "                        Recall model  \n",
       "71                                A3  \n",
       "107                     [X3, X4, X5]  \n",
       "336                          TRANSIT  \n",
       "642   [SPRINTER 2500, SPRINTER 3500]  \n",
       "779                              NaN  \n",
       "1164                            GOLF  "
      ]
     },
     "execution_count": 337,
     "metadata": {},
     "output_type": "execute_result"
    }
   ],
   "source": [
    "combined_year(2015)"
   ]
  },
  {
   "cell_type": "code",
   "execution_count": 338,
   "metadata": {},
   "outputs": [
    {
     "data": {
      "text/html": [
       "<div>\n",
       "<style scoped>\n",
       "    .dataframe tbody tr th:only-of-type {\n",
       "        vertical-align: middle;\n",
       "    }\n",
       "\n",
       "    .dataframe tbody tr th {\n",
       "        vertical-align: top;\n",
       "    }\n",
       "\n",
       "    .dataframe thead th {\n",
       "        text-align: right;\n",
       "    }\n",
       "</style>\n",
       "<table border=\"1\" class=\"dataframe\">\n",
       "  <thead>\n",
       "    <tr style=\"text-align: right;\">\n",
       "      <th></th>\n",
       "      <th>brand</th>\n",
       "      <th>fuelType</th>\n",
       "      <th>gearbox</th>\n",
       "      <th>model</th>\n",
       "      <th>vehicleType</th>\n",
       "      <th>Recall Component</th>\n",
       "      <th>Recall Type</th>\n",
       "      <th>Recall model</th>\n",
       "    </tr>\n",
       "  </thead>\n",
       "  <tbody>\n",
       "    <tr>\n",
       "      <th>70</th>\n",
       "      <td>audi</td>\n",
       "      <td>diesel</td>\n",
       "      <td>manuell</td>\n",
       "      <td>a3</td>\n",
       "      <td>limousine</td>\n",
       "      <td>ENGINE AND ENGINE COOLING:COOLING SYSTEM</td>\n",
       "      <td>VEHICLE</td>\n",
       "      <td>Q5</td>\n",
       "    </tr>\n",
       "    <tr>\n",
       "      <th>106</th>\n",
       "      <td>bmw</td>\n",
       "      <td>diesel</td>\n",
       "      <td>automatik</td>\n",
       "      <td>1er</td>\n",
       "      <td>limousine</td>\n",
       "      <td>FUEL SYSTEM, GASOLINE:DELIVERY:FUEL PUMP</td>\n",
       "      <td>VEHICLE</td>\n",
       "      <td>[320I, 328I]</td>\n",
       "    </tr>\n",
       "    <tr>\n",
       "      <th>335</th>\n",
       "      <td>ford</td>\n",
       "      <td>benzin</td>\n",
       "      <td>manuell</td>\n",
       "      <td>fiesta</td>\n",
       "      <td>kleinwagen</td>\n",
       "      <td>EQUIPMENT ADAPTIVE</td>\n",
       "      <td>VEHICLE</td>\n",
       "      <td>ESCAPE</td>\n",
       "    </tr>\n",
       "    <tr>\n",
       "      <th>641</th>\n",
       "      <td>mercedes_benz</td>\n",
       "      <td>diesel</td>\n",
       "      <td>automatik</td>\n",
       "      <td>c_klasse</td>\n",
       "      <td>limousine</td>\n",
       "      <td>[AIR BAGS, STRUCTURE:BODY:HOOD]</td>\n",
       "      <td>VEHICLE</td>\n",
       "      <td>CLA250</td>\n",
       "    </tr>\n",
       "    <tr>\n",
       "      <th>778</th>\n",
       "      <td>opel</td>\n",
       "      <td>benzin</td>\n",
       "      <td>manuell</td>\n",
       "      <td>andere</td>\n",
       "      <td>kleinwagen</td>\n",
       "      <td>NaN</td>\n",
       "      <td>NaN</td>\n",
       "      <td>NaN</td>\n",
       "    </tr>\n",
       "    <tr>\n",
       "      <th>1163</th>\n",
       "      <td>volkswagen</td>\n",
       "      <td>diesel</td>\n",
       "      <td>manuell</td>\n",
       "      <td>golf</td>\n",
       "      <td>limousine</td>\n",
       "      <td>AIR BAGS:FRONTAL</td>\n",
       "      <td>VEHICLE</td>\n",
       "      <td>PASSAT</td>\n",
       "    </tr>\n",
       "  </tbody>\n",
       "</table>\n",
       "</div>"
      ],
      "text/plain": [
       "              brand fuelType    gearbox     model vehicleType  \\\n",
       "70             audi   diesel    manuell        a3   limousine   \n",
       "106             bmw   diesel  automatik       1er   limousine   \n",
       "335            ford   benzin    manuell    fiesta  kleinwagen   \n",
       "641   mercedes_benz   diesel  automatik  c_klasse   limousine   \n",
       "778            opel   benzin    manuell    andere  kleinwagen   \n",
       "1163     volkswagen   diesel    manuell      golf   limousine   \n",
       "\n",
       "                              Recall Component Recall Type  Recall model  \n",
       "70    ENGINE AND ENGINE COOLING:COOLING SYSTEM     VEHICLE            Q5  \n",
       "106   FUEL SYSTEM, GASOLINE:DELIVERY:FUEL PUMP     VEHICLE  [320I, 328I]  \n",
       "335                         EQUIPMENT ADAPTIVE     VEHICLE        ESCAPE  \n",
       "641            [AIR BAGS, STRUCTURE:BODY:HOOD]     VEHICLE        CLA250  \n",
       "778                                        NaN         NaN           NaN  \n",
       "1163                          AIR BAGS:FRONTAL     VEHICLE        PASSAT  "
      ]
     },
     "execution_count": 338,
     "metadata": {},
     "output_type": "execute_result"
    }
   ],
   "source": [
    "combined_year(2014)"
   ]
  },
  {
   "cell_type": "code",
   "execution_count": 339,
   "metadata": {},
   "outputs": [
    {
     "data": {
      "text/html": [
       "<div>\n",
       "<style scoped>\n",
       "    .dataframe tbody tr th:only-of-type {\n",
       "        vertical-align: middle;\n",
       "    }\n",
       "\n",
       "    .dataframe tbody tr th {\n",
       "        vertical-align: top;\n",
       "    }\n",
       "\n",
       "    .dataframe thead th {\n",
       "        text-align: right;\n",
       "    }\n",
       "</style>\n",
       "<table border=\"1\" class=\"dataframe\">\n",
       "  <thead>\n",
       "    <tr style=\"text-align: right;\">\n",
       "      <th></th>\n",
       "      <th>brand</th>\n",
       "      <th>fuelType</th>\n",
       "      <th>gearbox</th>\n",
       "      <th>model</th>\n",
       "      <th>vehicleType</th>\n",
       "      <th>Recall Component</th>\n",
       "      <th>Recall Type</th>\n",
       "      <th>Recall model</th>\n",
       "    </tr>\n",
       "  </thead>\n",
       "  <tbody>\n",
       "    <tr>\n",
       "      <th>69</th>\n",
       "      <td>audi</td>\n",
       "      <td>diesel</td>\n",
       "      <td>manuell</td>\n",
       "      <td>a3</td>\n",
       "      <td>limousine</td>\n",
       "      <td>[ENGINE AND ENGINE COOLING:COOLING SYSTEM, FUE...</td>\n",
       "      <td>VEHICLE</td>\n",
       "      <td>[A6, A7, Q5]</td>\n",
       "    </tr>\n",
       "    <tr>\n",
       "      <th>105</th>\n",
       "      <td>bmw</td>\n",
       "      <td>diesel</td>\n",
       "      <td>automatik</td>\n",
       "      <td>3er</td>\n",
       "      <td>limousine</td>\n",
       "      <td>[SERVICE BRAKES, HYDRAULIC:POWER ASSIST:VACUUM...</td>\n",
       "      <td>VEHICLE</td>\n",
       "      <td>X3</td>\n",
       "    </tr>\n",
       "    <tr>\n",
       "      <th>334</th>\n",
       "      <td>ford</td>\n",
       "      <td>benzin</td>\n",
       "      <td>manuell</td>\n",
       "      <td>focus</td>\n",
       "      <td>kleinwagen</td>\n",
       "      <td>EQUIPMENT</td>\n",
       "      <td>VEHICLE</td>\n",
       "      <td>ESCAPE</td>\n",
       "    </tr>\n",
       "    <tr>\n",
       "      <th>640</th>\n",
       "      <td>mercedes_benz</td>\n",
       "      <td>diesel</td>\n",
       "      <td>automatik</td>\n",
       "      <td>c_klasse</td>\n",
       "      <td>limousine</td>\n",
       "      <td>STRUCTURE:BODY:HOOD</td>\n",
       "      <td>VEHICLE</td>\n",
       "      <td>[CLS550, CLS63, SL550, SL63, SLK250, SLK350]</td>\n",
       "    </tr>\n",
       "    <tr>\n",
       "      <th>777</th>\n",
       "      <td>opel</td>\n",
       "      <td>benzin</td>\n",
       "      <td>manuell</td>\n",
       "      <td>andere</td>\n",
       "      <td>kleinwagen</td>\n",
       "      <td>NaN</td>\n",
       "      <td>NaN</td>\n",
       "      <td>NaN</td>\n",
       "    </tr>\n",
       "    <tr>\n",
       "      <th>1162</th>\n",
       "      <td>volkswagen</td>\n",
       "      <td>diesel</td>\n",
       "      <td>manuell</td>\n",
       "      <td>golf</td>\n",
       "      <td>limousine</td>\n",
       "      <td>AIR BAGS:FRONTAL</td>\n",
       "      <td>VEHICLE</td>\n",
       "      <td>PASSAT</td>\n",
       "    </tr>\n",
       "  </tbody>\n",
       "</table>\n",
       "</div>"
      ],
      "text/plain": [
       "              brand fuelType    gearbox     model vehicleType  \\\n",
       "69             audi   diesel    manuell        a3   limousine   \n",
       "105             bmw   diesel  automatik       3er   limousine   \n",
       "334            ford   benzin    manuell     focus  kleinwagen   \n",
       "640   mercedes_benz   diesel  automatik  c_klasse   limousine   \n",
       "777            opel   benzin    manuell    andere  kleinwagen   \n",
       "1162     volkswagen   diesel    manuell      golf   limousine   \n",
       "\n",
       "                                       Recall Component Recall Type  \\\n",
       "69    [ENGINE AND ENGINE COOLING:COOLING SYSTEM, FUE...     VEHICLE   \n",
       "105   [SERVICE BRAKES, HYDRAULIC:POWER ASSIST:VACUUM...     VEHICLE   \n",
       "334                                           EQUIPMENT     VEHICLE   \n",
       "640                                 STRUCTURE:BODY:HOOD     VEHICLE   \n",
       "777                                                 NaN         NaN   \n",
       "1162                                   AIR BAGS:FRONTAL     VEHICLE   \n",
       "\n",
       "                                      Recall model  \n",
       "69                                    [A6, A7, Q5]  \n",
       "105                                             X3  \n",
       "334                                         ESCAPE  \n",
       "640   [CLS550, CLS63, SL550, SL63, SLK250, SLK350]  \n",
       "777                                            NaN  \n",
       "1162                                        PASSAT  "
      ]
     },
     "execution_count": 339,
     "metadata": {},
     "output_type": "execute_result"
    }
   ],
   "source": [
    "combined_year(2013)"
   ]
  },
  {
   "cell_type": "code",
   "execution_count": 340,
   "metadata": {},
   "outputs": [
    {
     "data": {
      "text/html": [
       "<div>\n",
       "<style scoped>\n",
       "    .dataframe tbody tr th:only-of-type {\n",
       "        vertical-align: middle;\n",
       "    }\n",
       "\n",
       "    .dataframe tbody tr th {\n",
       "        vertical-align: top;\n",
       "    }\n",
       "\n",
       "    .dataframe thead th {\n",
       "        text-align: right;\n",
       "    }\n",
       "</style>\n",
       "<table border=\"1\" class=\"dataframe\">\n",
       "  <thead>\n",
       "    <tr style=\"text-align: right;\">\n",
       "      <th></th>\n",
       "      <th>brand</th>\n",
       "      <th>fuelType</th>\n",
       "      <th>gearbox</th>\n",
       "      <th>model</th>\n",
       "      <th>vehicleType</th>\n",
       "      <th>Recall Component</th>\n",
       "      <th>Recall Type</th>\n",
       "      <th>Recall model</th>\n",
       "    </tr>\n",
       "  </thead>\n",
       "  <tbody>\n",
       "    <tr>\n",
       "      <th>68</th>\n",
       "      <td>audi</td>\n",
       "      <td>diesel</td>\n",
       "      <td>automatik</td>\n",
       "      <td>a4</td>\n",
       "      <td>kombi</td>\n",
       "      <td>FUEL SYSTEM, GASOLINE:FUEL INJECTION SYSTEM:FU...</td>\n",
       "      <td>VEHICLE</td>\n",
       "      <td>[A6, Q5]</td>\n",
       "    </tr>\n",
       "    <tr>\n",
       "      <th>104</th>\n",
       "      <td>bmw</td>\n",
       "      <td>diesel</td>\n",
       "      <td>automatik</td>\n",
       "      <td>3er</td>\n",
       "      <td>limousine</td>\n",
       "      <td>[AIR BAGS:FRONTAL:DRIVER SIDE INFLATOR MODULE,...</td>\n",
       "      <td>VEHICLE</td>\n",
       "      <td>[135I, 320I, 328I, 528I, X5 SAV, Z4]</td>\n",
       "    </tr>\n",
       "    <tr>\n",
       "      <th>333</th>\n",
       "      <td>ford</td>\n",
       "      <td>diesel</td>\n",
       "      <td>manuell</td>\n",
       "      <td>focus</td>\n",
       "      <td>kleinwagen</td>\n",
       "      <td>EQUIPMENT</td>\n",
       "      <td>VEHICLE</td>\n",
       "      <td>F-550 SD</td>\n",
       "    </tr>\n",
       "    <tr>\n",
       "      <th>639</th>\n",
       "      <td>mercedes_benz</td>\n",
       "      <td>diesel</td>\n",
       "      <td>automatik</td>\n",
       "      <td>c_klasse</td>\n",
       "      <td>limousine</td>\n",
       "      <td>AIR BAGS:PASSENGER SIDE FRONTAL</td>\n",
       "      <td>VEHICLE</td>\n",
       "      <td>[E350, GLK350]</td>\n",
       "    </tr>\n",
       "    <tr>\n",
       "      <th>776</th>\n",
       "      <td>opel</td>\n",
       "      <td>benzin</td>\n",
       "      <td>manuell</td>\n",
       "      <td>astra</td>\n",
       "      <td>kleinwagen</td>\n",
       "      <td>NaN</td>\n",
       "      <td>NaN</td>\n",
       "      <td>NaN</td>\n",
       "    </tr>\n",
       "    <tr>\n",
       "      <th>1161</th>\n",
       "      <td>volkswagen</td>\n",
       "      <td>diesel</td>\n",
       "      <td>manuell</td>\n",
       "      <td>golf</td>\n",
       "      <td>limousine</td>\n",
       "      <td>AIR BAGS:FRONTAL</td>\n",
       "      <td>VEHICLE</td>\n",
       "      <td>[JETTA, PASSAT]</td>\n",
       "    </tr>\n",
       "  </tbody>\n",
       "</table>\n",
       "</div>"
      ],
      "text/plain": [
       "              brand fuelType    gearbox     model vehicleType  \\\n",
       "68             audi   diesel  automatik        a4       kombi   \n",
       "104             bmw   diesel  automatik       3er   limousine   \n",
       "333            ford   diesel    manuell     focus  kleinwagen   \n",
       "639   mercedes_benz   diesel  automatik  c_klasse   limousine   \n",
       "776            opel   benzin    manuell     astra  kleinwagen   \n",
       "1161     volkswagen   diesel    manuell      golf   limousine   \n",
       "\n",
       "                                       Recall Component Recall Type  \\\n",
       "68    FUEL SYSTEM, GASOLINE:FUEL INJECTION SYSTEM:FU...     VEHICLE   \n",
       "104   [AIR BAGS:FRONTAL:DRIVER SIDE INFLATOR MODULE,...     VEHICLE   \n",
       "333                                           EQUIPMENT     VEHICLE   \n",
       "639                     AIR BAGS:PASSENGER SIDE FRONTAL     VEHICLE   \n",
       "776                                                 NaN         NaN   \n",
       "1161                                   AIR BAGS:FRONTAL     VEHICLE   \n",
       "\n",
       "                              Recall model  \n",
       "68                                [A6, Q5]  \n",
       "104   [135I, 320I, 328I, 528I, X5 SAV, Z4]  \n",
       "333                               F-550 SD  \n",
       "639                         [E350, GLK350]  \n",
       "776                                    NaN  \n",
       "1161                       [JETTA, PASSAT]  "
      ]
     },
     "execution_count": 340,
     "metadata": {},
     "output_type": "execute_result"
    }
   ],
   "source": [
    "combined_year(2012)"
   ]
  },
  {
   "cell_type": "markdown",
   "metadata": {},
   "source": [
    "From the above, we see that only for the year model 2015 Volkswagen and Audi have the most popular cars model on eBay that also most had recalled."
   ]
  }
 ],
 "metadata": {
  "kernelspec": {
   "display_name": "Python 3",
   "language": "python",
   "name": "python3"
  },
  "language_info": {
   "codemirror_mode": {
    "name": "ipython",
    "version": 3
   },
   "file_extension": ".py",
   "mimetype": "text/x-python",
   "name": "python",
   "nbconvert_exporter": "python",
   "pygments_lexer": "ipython3",
   "version": "3.8.3"
  }
 },
 "nbformat": 4,
 "nbformat_minor": 4
}
